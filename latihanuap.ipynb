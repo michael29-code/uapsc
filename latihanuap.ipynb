{
  "nbformat": 4,
  "nbformat_minor": 0,
  "metadata": {
    "colab": {
      "provenance": [],
      "authorship_tag": "ABX9TyMYsw/B5TDSKwyFC9jEP6KJ",
      "include_colab_link": true
    },
    "kernelspec": {
      "name": "python3",
      "display_name": "Python 3"
    },
    "language_info": {
      "name": "python"
    }
  },
  "cells": [
    {
      "cell_type": "markdown",
      "metadata": {
        "id": "view-in-github",
        "colab_type": "text"
      },
      "source": [
        "<a href=\"https://colab.research.google.com/github/michael29-code/uapsc/blob/main/latihanuap.ipynb\" target=\"_parent\"><img src=\"https://colab.research.google.com/assets/colab-badge.svg\" alt=\"Open In Colab\"/></a>"
      ]
    },
    {
      "cell_type": "code",
      "execution_count": 1,
      "metadata": {
        "id": "gTer2K1GEb6r"
      },
      "outputs": [],
      "source": [
        "import numpy as np\n",
        "import matplotlib.pyplot as plt #buat plot\n",
        "from sympy import *"
      ]
    },
    {
      "cell_type": "markdown",
      "source": [
        "1. Diagonal Dominant"
      ],
      "metadata": {
        "id": "6CuOfpeOFEur"
      }
    },
    {
      "cell_type": "code",
      "source": [
        "mX = [\n",
        "        [\n",
        "            [10, 2, -6],\n",
        "            [-1, 4, 2],\n",
        "            [2, 3, 6]\n",
        "        ],\n",
        "        [\n",
        "            [-5, 2, -8],\n",
        "            [4, -3, -9],\n",
        "            [-8, -10, 9]\n",
        "        ],\n",
        "        [\n",
        "            [10, -5, 3, 0],\n",
        "            [3, -9, 2, -2],\n",
        "            [-8, 0, 17, -4],\n",
        "            [3, -3, -8, -15]\n",
        "        ],\n",
        "]\n",
        "\n",
        "mY = [\n",
        "    [17, -4, -12],\n",
        "    [13, -7, -2],\n",
        "    [9, 10, -10, -18]\n",
        "]"
      ],
      "metadata": {
        "id": "D-fJHD0pErGA"
      },
      "execution_count": 2,
      "outputs": []
    },
    {
      "cell_type": "code",
      "source": [
        "def checkdiag(x):\n",
        "  x = np.array(x)\n",
        "  diag = np.diag(np.abs(x))\n",
        "  sumwithdiag = np.sum(np.abs(x), axis = 1)\n",
        "  sumwithoutdiag = sumwithdiag - diag\n",
        "\n",
        "  if np.all(diag > sumwithoutdiag):\n",
        "    return True\n",
        "  else:\n",
        "    return False "
      ],
      "metadata": {
        "id": "NIDtbqxJHVlr"
      },
      "execution_count": 3,
      "outputs": []
    },
    {
      "cell_type": "code",
      "source": [
        "for i, x in enumerate(mX):\n",
        "  print(checkdiag(x))"
      ],
      "metadata": {
        "colab": {
          "base_uri": "https://localhost:8080/"
        },
        "id": "A4FQabIRFk9M",
        "outputId": "524075cb-dfc4-42b6-e9f5-df08f6a18dd0"
      },
      "execution_count": 4,
      "outputs": [
        {
          "output_type": "stream",
          "name": "stdout",
          "text": [
            "True\n",
            "False\n",
            "True\n"
          ]
        }
      ]
    },
    {
      "cell_type": "markdown",
      "source": [
        "seidel"
      ],
      "metadata": {
        "id": "pXshOFqdNO1L"
      }
    },
    {
      "cell_type": "code",
      "source": [
        "def gausseidel (x,y,tolerance, max):\n",
        "  x = np.array(x)\n",
        "  y = np.array(y)\n",
        "\n",
        "  if checkdiag(x) == False:\n",
        "    return False;\n",
        "\n",
        "  diag = np.diag(x)\n",
        "  x = -x\n",
        "  np.fill_diagonal(x,0)\n",
        "  xbefore = np.zeros(x.shape[0])\n",
        "\n",
        "  for i in range(max):\n",
        "    xnew = np.array(xbefore)\n",
        "    for j, row in enumerate(x):\n",
        "      xnew[j] = (y[j] + np.dot(row,xnew))/diag[j]\n",
        "\n",
        "    distance = np.sqrt(np.dot(xnew-xbefore,xnew-xbefore))\n",
        "\n",
        "    if distance < tolerance:\n",
        "      return xnew\n",
        "\n",
        "    xbefore = xnew\n",
        "  return False\n",
        "    "
      ],
      "metadata": {
        "id": "dcPlYPZnOt3y"
      },
      "execution_count": 5,
      "outputs": []
    },
    {
      "cell_type": "code",
      "source": [
        "for i , (x,y) in enumerate(zip(mX,mY)):\n",
        "  print(gausseidel(x,y,0.01456,5))"
      ],
      "metadata": {
        "colab": {
          "base_uri": "https://localhost:8080/"
        },
        "id": "DXa0rtp3NSGb",
        "outputId": "89b359d9-0c79-42fc-f3d0-9e4a0d123566"
      },
      "execution_count": 6,
      "outputs": [
        {
          "output_type": "stream",
          "name": "stdout",
          "text": [
            "[ 0.34010322  0.1875559  -2.20714569]\n",
            "False\n",
            "False\n"
          ]
        }
      ]
    },
    {
      "cell_type": "markdown",
      "source": [
        "no 3 "
      ],
      "metadata": {
        "id": "dmRkSWqSWBxZ"
      }
    },
    {
      "cell_type": "code",
      "source": [
        "lx = [1, 5, 7, 2, 3, 9, 10, 4, 6, 8]\n",
        "ly = [34, 51, 80, 25, 90, 76, 100, 11, 45, 62]"
      ],
      "metadata": {
        "id": "w7M1j4N6WEW1"
      },
      "execution_count": 7,
      "outputs": []
    },
    {
      "cell_type": "code",
      "source": [
        "lx = np.array(lx)\n",
        "ly = np.array(ly)\n",
        "\n",
        "Y = np.vstack(ly)\n",
        "A = np.vstack([lx,np.ones(len(lx))]).T\n",
        "\n",
        "hasilinvers = np.linalg.inv(np.dot(A.T,A))\n",
        "\n",
        "beta = np.dot(np.dot(hasilinvers,A.T),Y)\n",
        "\n",
        "m = beta[0]\n",
        "c = beta[1]\n",
        "\n",
        "y = m*lx+c\n",
        "\n",
        "fig = plt.figure(figsize=(10,8))\n",
        "plt.xlabel(\"x\")\n",
        "plt.ylabel(\"y\")\n",
        "\n",
        "plt.plot(lx,ly,'go')\n",
        "plt.plot(lx,y,'-b')\n",
        "\n",
        "plt.show()"
      ],
      "metadata": {
        "colab": {
          "base_uri": "https://localhost:8080/",
          "height": 696
        },
        "id": "CuPXe2AFWGVa",
        "outputId": "3fc72709-c440-4cc2-f2dd-a610f1997973"
      },
      "execution_count": 8,
      "outputs": [
        {
          "output_type": "display_data",
          "data": {
            "text/plain": [
              "<Figure size 1000x800 with 1 Axes>"
            ],
            "image/png": "[encoded data removed]"
          },
          "metadata": {}
        }
      ]
    },
    {
      "cell_type": "markdown",
      "source": [
        "no 4"
      ],
      "metadata": {
        "id": "-Cx3SsmEmtkC"
      }
    },
    {
      "cell_type": "code",
      "source": [
        "x = symbols('x')\n",
        "\n",
        "f1 = lambda x: 7*x**4 - 3*x**2 + x\n",
        "df1 = diff(f1(x),x)\n",
        "df1 = lambdify(x,df1,'numpy')\n",
        "\n",
        "f2 = lambda x: 8*x**6 + 5*x**4 - 2\n",
        "df2 = diff(f2(x),x)\n",
        "df2 = lambdify(x,df2,'numpy')\n",
        "\n",
        "def newtonraphson(f,df,x0,tolerance, max):\n",
        "  if max == 0:\n",
        "    print('max iteration reached')\n",
        "    return False\n",
        "  if np.abs(f(x0)) < tolerance:\n",
        "    print(x0)\n",
        "    return True\n",
        "  else:\n",
        "    return newtonraphson(f,df,x0 - (f(x0)/df(x0)), tolerance, max-1)\n",
        "\n",
        "newtonraphson(f1,df1,1,0.006541,5)\n",
        "newtonraphson(f2,df2,1,0.006541,5)"
      ],
      "metadata": {
        "colab": {
          "base_uri": "https://localhost:8080/"
        },
        "id": "3-5Ods-_f3KR",
        "outputId": "741c60e3-48e7-46e2-be59-6b9de6ccf9a1"
      },
      "execution_count": 9,
      "outputs": [
        {
          "output_type": "stream",
          "name": "stdout",
          "text": [
            "max iteration reached\n",
            "0.6903195287760319\n"
          ]
        },
        {
          "output_type": "execute_result",
          "data": {
            "text/plain": [
              "True"
            ]
          },
          "metadata": {},
          "execution_count": 9
        }
      ]
    },
    {
      "cell_type": "markdown",
      "source": [
        "no 5"
      ],
      "metadata": {
        "id": "WIvQI4zPmvg4"
      }
    },
    {
      "cell_type": "code",
      "source": [
        "fr = lambda x : 3*x**4-7*x**2 + 5\n",
        "\n",
        "a = -4\n",
        "b = 3\n",
        "n = 30\n",
        "\n",
        "x = np.linspace(a,b,n)\n",
        "\n",
        "width = (b-a)/(n-1)\n",
        "\n",
        "xleft = x[:-1]\n",
        "yleft = fr(xleft)\n",
        "leftriemann = width * (np.sum(np.abs(yleft)))\n",
        "\n",
        "xright = x[1:]\n",
        "yright = fr(xright)\n",
        "rightriemann = width * (np.sum(np.abs(yright)))\n",
        "\n",
        "xmid = (xleft + xright)/2\n",
        "ymid = fr(xmid)\n",
        "midRiemann = width * (np.sum(np.abs(ymid)))\n",
        "\n",
        "ytrapezoid = fr(x)\n",
        "trapezoid = (np.sum(np.abs(yleft)) + np.sum(np.abs(yright))) * width / 2\n",
        "\n",
        "print(f\"Left Riemann : {leftriemann}\")\n",
        "print(f\"Right Riemann : {rightriemann}\")\n",
        "print(f\"Mid Riemann : {midRiemann}\")\n",
        "print(f\"Trapezoid : {trapezoid}\")\n"
      ],
      "metadata": {
        "colab": {
          "base_uri": "https://localhost:8080/"
        },
        "id": "bBtlplhKmhLi",
        "outputId": "23101394-8827-4e74-aacf-6215de469a50"
      },
      "execution_count": 10,
      "outputs": [
        {
          "output_type": "stream",
          "name": "stdout",
          "text": [
            "Left Riemann : 645.1387652149571\n",
            "Right Riemann : 530.2422134908192\n",
            "Mid Riemann : 580.4556464297783\n",
            "Trapezoid : 587.6904893528881\n"
          ]
        }
      ]
    }
  ]
}